{
 "cells": [
  {
   "cell_type": "code",
   "execution_count": 1,
   "metadata": {},
   "outputs": [
    {
     "name": "stdout",
     "output_type": "stream",
     "text": [
      "Creating token 9zCU9jFGcWDkZzHMmyxd7kcrK2guuiCGjbXCwjWz4jNn under program TokenkegQfeZyiNwAJbNbGKPFXCWuBvf9Ss623VQ5DA\n",
      "\u001b[32m⠁\u001b[0m \n",
      "\u001b[2K\u001b[1B\u001b[1A\n",
      "\u001b[1mAddress: \u001b[0m 9zCU9jFGcWDkZzHMmyxd7kcrK2guuiCGjbXCwjWz4jNn\n",
      "\u001b[1mDecimals: \u001b[0m 9\n",
      "\n",
      "\u001b[1mSignature:\u001b[0m rnBq1DdqwPA4jDB35pTaBhhGyJ4zYt6N4LTwiTNRWKUV59Ru7BNhfngxeZE9fsaiCZ8ChTKZsgRxT7m92N6sHrn\n",
      "\n"
     ]
    }
   ],
   "source": [
    "!spl-token create-token"
   ]
  },
  {
   "cell_type": "code",
   "execution_count": 19,
   "metadata": {},
   "outputs": [
    {
     "name": "stdout",
     "output_type": "stream",
     "text": [
      "Creating account 5tJ9b7WZtDtfS5m3o18wS5bdGZZduqkpRXsn6f12P9TQ\n",
      "\u001b[32m⠁\u001b[0m \n",
      "\u001b[2K\u001b[1B\u001b[1A\n",
      "\u001b[1mSignature:\u001b[0m 8GTajM5hEgPsxDXJLkTdUBsLwzpvsXyDJVyvewvvMyWcQJAeMWZz7qcZ4L5kQbtKjMB8tCR3784RisEoY5FNtGM\n",
      "\n"
     ]
    }
   ],
   "source": [
    "!spl-token create-account 8GbMBYWJjnjcJGfVS6AJpZcjyTus33Hy8voGgGdqqnHR"
   ]
  },
  {
   "cell_type": "code",
   "execution_count": 20,
   "metadata": {},
   "outputs": [
    {
     "name": "stdout",
     "output_type": "stream",
     "text": [
      "Minting 1000000 tokens\n",
      "  Token: 8GbMBYWJjnjcJGfVS6AJpZcjyTus33Hy8voGgGdqqnHR\n",
      "  Recipient: 5tJ9b7WZtDtfS5m3o18wS5bdGZZduqkpRXsn6f12P9TQ\n",
      "\u001b[32m⠁\u001b[0m \n",
      "\u001b[2K\u001b[1B\u001b[1A\n",
      "\u001b[1mSignature:\u001b[0m 3ukupfETnCguZXc2kTmbMLccyz3SZViprYiJnW7xaBmbRdpgaf5iFjqGEQZByRUZSnqXvKb8W4h7svPvcsqGMQSG\n",
      "\n"
     ]
    }
   ],
   "source": [
    "!spl-token mint 8GbMBYWJjnjcJGfVS6AJpZcjyTus33Hy8voGgGdqqnHR 1000000 5tJ9b7WZtDtfS5m3o18wS5bdGZZduqkpRXsn6f12P9TQ"
   ]
  },
  {
   "cell_type": "code",
   "execution_count": 29,
   "metadata": {},
   "outputs": [
    {
     "name": "stdout",
     "output_type": "stream",
     "text": [
      "Transfer 1000 tokens\n",
      "  Sender: 5tJ9b7WZtDtfS5m3o18wS5bdGZZduqkpRXsn6f12P9TQ\n",
      "  Recipient: CAf2Ea7miZo85iPLJRTkiK9khsex2FMXozsDhvsdmVcM\n",
      "  Recipient associated token account: 6aW2L8pD5H9hGUY2EN52aPrtPUMzLrXgzoKXtz8mhMQq\n",
      "  Funding recipient: 6aW2L8pD5H9hGUY2EN52aPrtPUMzLrXgzoKXtz8mhMQq\n",
      "\u001b[32m⠁\u001b[0m \n",
      "\u001b[2K\u001b[1B\u001b[1A\n",
      "\u001b[1mSignature:\u001b[0m 24BGh4H6qJsXT4Kjw5hzWx2CVuYcw84vkkhzxZFi34fbwv1f2qPfjrE4NvJk1uWX4PvqVpEp5gPsRidWppoKF9jQ\n",
      "\n"
     ]
    }
   ],
   "source": [
    "!spl-token transfer 8GbMBYWJjnjcJGfVS6AJpZcjyTus33Hy8voGgGdqqnHR 1000 CAf2Ea7miZo85iPLJRTkiK9khsex2FMXozsDhvsdmVcM --fund-recipient"
   ]
  },
  {
   "cell_type": "code",
   "execution_count": null,
   "metadata": {},
   "outputs": [],
   "source": []
  },
  {
   "cell_type": "code",
   "execution_count": null,
   "metadata": {},
   "outputs": [],
   "source": []
  },
  {
   "cell_type": "code",
   "execution_count": 6,
   "metadata": {},
   "outputs": [
    {
     "name": "stdout",
     "output_type": "stream",
     "text": [
      "Updating CfDUTEGPDQPbvgXDFGjBxH55SzxKupVMYT456KcQensp\n",
      "  Current mint authority: H9tC23FKkPwqrgnU56gcV4i4XRroB8b1iYbzs1Bvg6EB\n",
      "  New mint authority: H77Ctmyaf55Scv1bXZRRJWSSYngHgBW9usmF9kFRQXdp\n",
      "\u001b[32m⠁\u001b[0m \n",
      "\u001b[2K\u001b[1B\u001b[1A\n",
      "\u001b[1mSignature:\u001b[0m 4h7a1deGiG9HT9fFvmRSdkkyWA8FrdVQkD7fVCxQ5Gxf7z9moiH8TGWXcw5QjmDEbkXHawheAJ85CqxVwZCNhoKG\n",
      "\n"
     ]
    }
   ],
   "source": [
    "!spl-token authorize CfDUTEGPDQPbvgXDFGjBxH55SzxKupVMYT456KcQensp mint H77Ctmyaf55Scv1bXZRRJWSSYngHgBW9usmF9kFRQXdp --url localhost"
   ]
  },
  {
   "cell_type": "code",
   "execution_count": 8,
   "metadata": {},
   "outputs": [
    {
     "name": "stdout",
     "output_type": "stream",
     "text": [
      "Error: \"Account H77Ctmyaf55Scv1bXZRRJWSSYngHgBW9usmF9kFRQXdp is owned by 11111111111111111111111111111111, not configured program id TokenkegQfeZyiNwAJbNbGKPFXCWuBvf9Ss623VQ5DA\"\n"
     ]
    }
   ],
   "source": [
    "!spl-token mint CfDUTEGPDQPbvgXDFGjBxH55SzxKupVMYT456KcQensp 1000000000000000000 H77Ctmyaf55Scv1bXZRRJWSSYngHgBW9usmF9kFRQXdp --url localhost"
   ]
  },
  {
   "cell_type": "code",
   "execution_count": null,
   "metadata": {},
   "outputs": [],
   "source": []
  }
 ],
 "metadata": {
  "kernelspec": {
   "display_name": "Python 3",
   "language": "python",
   "name": "python3"
  },
  "language_info": {
   "codemirror_mode": {
    "name": "ipython",
    "version": 3
   },
   "file_extension": ".py",
   "mimetype": "text/x-python",
   "name": "python",
   "nbconvert_exporter": "python",
   "pygments_lexer": "ipython3",
   "version": "3.9.6"
  },
  "orig_nbformat": 4,
  "vscode": {
   "interpreter": {
    "hash": "916dbcbb3f70747c44a77c7bcd40155683ae19c65e1c03b4aa3499c5328201f1"
   }
  }
 },
 "nbformat": 4,
 "nbformat_minor": 2
}
